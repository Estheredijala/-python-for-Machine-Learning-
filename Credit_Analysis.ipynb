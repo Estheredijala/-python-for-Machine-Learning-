{
  "cells": [
    {
      "cell_type": "markdown",
      "metadata": {
        "id": "view-in-github",
        "colab_type": "text"
      },
      "source": [
        "<a href=\"https://colab.research.google.com/github/Estheredijala/-python-for-Machine-Learning-/blob/main/Credit_Analysis.ipynb\" target=\"_parent\"><img src=\"https://colab.research.google.com/assets/colab-badge.svg\" alt=\"Open In Colab\"/></a>"
      ]
    },
    {
      "cell_type": "code",
      "execution_count": null,
      "id": "fb8ad0b7",
      "metadata": {
        "id": "fb8ad0b7"
      },
      "outputs": [],
      "source": [
        "#import all libraries\n",
        "import pandas as pd\n",
        "import numpy as np\n",
        "import matplotlib.pyplot as plt\n",
        "import seaborn as sns\n",
        "%matplotlib inline\n",
        "import warnings\n",
        "warnings.filterwarnings(\"ignore\")\n",
        "import os"
      ]
    },
    {
      "cell_type": "code",
      "execution_count": null,
      "id": "9fe8f8a5",
      "metadata": {
        "scrolled": true,
        "id": "9fe8f8a5",
        "outputId": "432d8be7-688b-4bbf-b3d3-0a4a05bbbb46"
      },
      "outputs": [
        {
          "data": {
            "text/html": [
              "<div>\n",
              "<style scoped>\n",
              "    .dataframe tbody tr th:only-of-type {\n",
              "        vertical-align: middle;\n",
              "    }\n",
              "\n",
              "    .dataframe tbody tr th {\n",
              "        vertical-align: top;\n",
              "    }\n",
              "\n",
              "    .dataframe thead th {\n",
              "        text-align: right;\n",
              "    }\n",
              "</style>\n",
              "<table border=\"1\" class=\"dataframe\">\n",
              "  <thead>\n",
              "    <tr style=\"text-align: right;\">\n",
              "      <th></th>\n",
              "      <th>Loan ID</th>\n",
              "      <th>Customer ID</th>\n",
              "      <th>Loan Status</th>\n",
              "      <th>Current Loan Amount</th>\n",
              "      <th>Term</th>\n",
              "      <th>Credit Score</th>\n",
              "      <th>Annual Income</th>\n",
              "      <th>Years in current job</th>\n",
              "      <th>Home Ownership</th>\n",
              "      <th>Purpose</th>\n",
              "      <th>Monthly Debt</th>\n",
              "      <th>Years of Credit History</th>\n",
              "      <th>Months since last delinquent</th>\n",
              "      <th>Number of Open Accounts</th>\n",
              "      <th>Number of Credit Problems</th>\n",
              "      <th>Current Credit Balance</th>\n",
              "      <th>Maximum Open Credit</th>\n",
              "      <th>Bankruptcies</th>\n",
              "      <th>Tax Liens</th>\n",
              "    </tr>\n",
              "  </thead>\n",
              "  <tbody>\n",
              "    <tr>\n",
              "      <th>0</th>\n",
              "      <td>14dd8831-6af5-400b-83ec-68e61888a048</td>\n",
              "      <td>981165ec-3274-42f5-a3b4-d104041a9ca9</td>\n",
              "      <td>Fully Paid</td>\n",
              "      <td>445412.0</td>\n",
              "      <td>Short Term</td>\n",
              "      <td>709.0</td>\n",
              "      <td>1167493.0</td>\n",
              "      <td>8 years</td>\n",
              "      <td>Home Mortgage</td>\n",
              "      <td>Home Improvements</td>\n",
              "      <td>5214.74</td>\n",
              "      <td>17.2</td>\n",
              "      <td>NaN</td>\n",
              "      <td>6.0</td>\n",
              "      <td>1.0</td>\n",
              "      <td>228190.0</td>\n",
              "      <td>416746.0</td>\n",
              "      <td>1.0</td>\n",
              "      <td>0.0</td>\n",
              "    </tr>\n",
              "    <tr>\n",
              "      <th>1</th>\n",
              "      <td>4771cc26-131a-45db-b5aa-537ea4ba5342</td>\n",
              "      <td>2de017a3-2e01-49cb-a581-08169e83be29</td>\n",
              "      <td>Fully Paid</td>\n",
              "      <td>262328.0</td>\n",
              "      <td>Short Term</td>\n",
              "      <td>NaN</td>\n",
              "      <td>NaN</td>\n",
              "      <td>10+ years</td>\n",
              "      <td>Home Mortgage</td>\n",
              "      <td>Debt Consolidation</td>\n",
              "      <td>33295.98</td>\n",
              "      <td>21.1</td>\n",
              "      <td>8.0</td>\n",
              "      <td>35.0</td>\n",
              "      <td>0.0</td>\n",
              "      <td>229976.0</td>\n",
              "      <td>850784.0</td>\n",
              "      <td>0.0</td>\n",
              "      <td>0.0</td>\n",
              "    </tr>\n",
              "  </tbody>\n",
              "</table>\n",
              "</div>"
            ],
            "text/plain": [
              "                                Loan ID                           Customer ID  \\\n",
              "0  14dd8831-6af5-400b-83ec-68e61888a048  981165ec-3274-42f5-a3b4-d104041a9ca9   \n",
              "1  4771cc26-131a-45db-b5aa-537ea4ba5342  2de017a3-2e01-49cb-a581-08169e83be29   \n",
              "\n",
              "  Loan Status  Current Loan Amount        Term  Credit Score  Annual Income  \\\n",
              "0  Fully Paid             445412.0  Short Term         709.0      1167493.0   \n",
              "1  Fully Paid             262328.0  Short Term           NaN            NaN   \n",
              "\n",
              "  Years in current job Home Ownership             Purpose  Monthly Debt  \\\n",
              "0              8 years  Home Mortgage   Home Improvements       5214.74   \n",
              "1            10+ years  Home Mortgage  Debt Consolidation      33295.98   \n",
              "\n",
              "   Years of Credit History  Months since last delinquent  \\\n",
              "0                     17.2                           NaN   \n",
              "1                     21.1                           8.0   \n",
              "\n",
              "   Number of Open Accounts  Number of Credit Problems  Current Credit Balance  \\\n",
              "0                      6.0                        1.0                228190.0   \n",
              "1                     35.0                        0.0                229976.0   \n",
              "\n",
              "   Maximum Open Credit  Bankruptcies  Tax Liens  \n",
              "0             416746.0           1.0        0.0  \n",
              "1             850784.0           0.0        0.0  "
            ]
          },
          "execution_count": 5,
          "metadata": {},
          "output_type": "execute_result"
        }
      ],
      "source": [
        "credit = pd.read_csv(\"credit_train 1.csv\")\n",
        "credit.head(2)"
      ]
    },
    {
      "cell_type": "markdown",
      "id": "f67e58c3",
      "metadata": {
        "id": "f67e58c3"
      },
      "source": [
        "EXPLORATORY DATA ANALYSIS EDA"
      ]
    },
    {
      "cell_type": "code",
      "execution_count": null,
      "id": "ef484e0b",
      "metadata": {
        "id": "ef484e0b",
        "outputId": "32106f60-c8c9-470a-c368-1fd0df2e4a78"
      },
      "outputs": [
        {
          "data": {
            "text/plain": [
              "10728"
            ]
          },
          "execution_count": 14,
          "metadata": {},
          "output_type": "execute_result"
        }
      ],
      "source": [
        "#Checking for the count of duplicate value\n",
        "credit.duplicated().sum()"
      ]
    },
    {
      "cell_type": "code",
      "execution_count": null,
      "id": "9e282184",
      "metadata": {
        "id": "9e282184",
        "outputId": "739ac147-bd3a-41d8-b3bd-e190638d077f"
      },
      "outputs": [
        {
          "data": {
            "text/plain": [
              "(89786, 19)"
            ]
          },
          "execution_count": 16,
          "metadata": {},
          "output_type": "execute_result"
        }
      ],
      "source": [
        "#removing duplicate rows for the dataframe and also checking for the new dimension of the data frame after droopping the duplicate\n",
        "credit.drop_duplicates(inplace = True)\n",
        "credit.shape"
      ]
    },
    {
      "cell_type": "code",
      "execution_count": null,
      "id": "1c22ed5b",
      "metadata": {
        "scrolled": false,
        "id": "1c22ed5b",
        "outputId": "1968bbfe-f386-437a-b0f9-c79030870a5e"
      },
      "outputs": [
        {
          "data": {
            "text/html": [
              "<div>\n",
              "<style scoped>\n",
              "    .dataframe tbody tr th:only-of-type {\n",
              "        vertical-align: middle;\n",
              "    }\n",
              "\n",
              "    .dataframe tbody tr th {\n",
              "        vertical-align: top;\n",
              "    }\n",
              "\n",
              "    .dataframe thead th {\n",
              "        text-align: right;\n",
              "    }\n",
              "</style>\n",
              "<table border=\"1\" class=\"dataframe\">\n",
              "  <thead>\n",
              "    <tr style=\"text-align: right;\">\n",
              "      <th></th>\n",
              "      <th>Current Loan Amount</th>\n",
              "      <th>Credit Score</th>\n",
              "      <th>Annual Income</th>\n",
              "      <th>Monthly Debt</th>\n",
              "      <th>Years of Credit History</th>\n",
              "      <th>Months since last delinquent</th>\n",
              "      <th>Number of Open Accounts</th>\n",
              "      <th>Number of Credit Problems</th>\n",
              "      <th>Current Credit Balance</th>\n",
              "      <th>Maximum Open Credit</th>\n",
              "      <th>Bankruptcies</th>\n",
              "      <th>Tax Liens</th>\n",
              "    </tr>\n",
              "  </thead>\n",
              "  <tbody>\n",
              "    <tr>\n",
              "      <th>count</th>\n",
              "      <td>8.978500e+04</td>\n",
              "      <td>70631.000000</td>\n",
              "      <td>7.063100e+04</td>\n",
              "      <td>89785.000000</td>\n",
              "      <td>89785.000000</td>\n",
              "      <td>41448.000000</td>\n",
              "      <td>89785.000000</td>\n",
              "      <td>89785.000000</td>\n",
              "      <td>8.978500e+04</td>\n",
              "      <td>8.978300e+04</td>\n",
              "      <td>89595.000000</td>\n",
              "      <td>89776.000000</td>\n",
              "    </tr>\n",
              "    <tr>\n",
              "      <th>mean</th>\n",
              "      <td>1.306089e+07</td>\n",
              "      <td>1130.830598</td>\n",
              "      <td>1.375894e+06</td>\n",
              "      <td>18396.906410</td>\n",
              "      <td>18.248642</td>\n",
              "      <td>34.975873</td>\n",
              "      <td>11.123250</td>\n",
              "      <td>0.164983</td>\n",
              "      <td>2.940351e+05</td>\n",
              "      <td>7.756565e+05</td>\n",
              "      <td>0.115531</td>\n",
              "      <td>0.028605</td>\n",
              "    </tr>\n",
              "    <tr>\n",
              "      <th>std</th>\n",
              "      <td>3.329556e+07</td>\n",
              "      <td>1571.037395</td>\n",
              "      <td>1.104852e+06</td>\n",
              "      <td>12145.282372</td>\n",
              "      <td>7.034607</td>\n",
              "      <td>22.008585</td>\n",
              "      <td>4.998884</td>\n",
              "      <td>0.478010</td>\n",
              "      <td>3.722277e+05</td>\n",
              "      <td>8.803517e+06</td>\n",
              "      <td>0.347919</td>\n",
              "      <td>0.255108</td>\n",
              "    </tr>\n",
              "    <tr>\n",
              "      <th>min</th>\n",
              "      <td>1.080200e+04</td>\n",
              "      <td>585.000000</td>\n",
              "      <td>7.662700e+04</td>\n",
              "      <td>0.000000</td>\n",
              "      <td>3.600000</td>\n",
              "      <td>0.000000</td>\n",
              "      <td>0.000000</td>\n",
              "      <td>0.000000</td>\n",
              "      <td>0.000000e+00</td>\n",
              "      <td>0.000000e+00</td>\n",
              "      <td>0.000000</td>\n",
              "      <td>0.000000</td>\n",
              "    </tr>\n",
              "    <tr>\n",
              "      <th>25%</th>\n",
              "      <td>1.802680e+05</td>\n",
              "      <td>708.000000</td>\n",
              "      <td>8.479320e+05</td>\n",
              "      <td>10157.400000</td>\n",
              "      <td>13.500000</td>\n",
              "      <td>16.000000</td>\n",
              "      <td>8.000000</td>\n",
              "      <td>0.000000</td>\n",
              "      <td>1.129360e+05</td>\n",
              "      <td>2.770680e+05</td>\n",
              "      <td>0.000000</td>\n",
              "      <td>0.000000</td>\n",
              "    </tr>\n",
              "    <tr>\n",
              "      <th>50%</th>\n",
              "      <td>3.138740e+05</td>\n",
              "      <td>729.000000</td>\n",
              "      <td>1.168975e+06</td>\n",
              "      <td>16140.310000</td>\n",
              "      <td>17.000000</td>\n",
              "      <td>32.000000</td>\n",
              "      <td>10.000000</td>\n",
              "      <td>0.000000</td>\n",
              "      <td>2.097220e+05</td>\n",
              "      <td>4.726920e+05</td>\n",
              "      <td>0.000000</td>\n",
              "      <td>0.000000</td>\n",
              "    </tr>\n",
              "    <tr>\n",
              "      <th>75%</th>\n",
              "      <td>5.323780e+05</td>\n",
              "      <td>742.000000</td>\n",
              "      <td>1.648915e+06</td>\n",
              "      <td>23918.910000</td>\n",
              "      <td>21.700000</td>\n",
              "      <td>51.000000</td>\n",
              "      <td>14.000000</td>\n",
              "      <td>0.000000</td>\n",
              "      <td>3.675170e+05</td>\n",
              "      <td>7.914500e+05</td>\n",
              "      <td>0.000000</td>\n",
              "      <td>0.000000</td>\n",
              "    </tr>\n",
              "    <tr>\n",
              "      <th>max</th>\n",
              "      <td>1.000000e+08</td>\n",
              "      <td>7510.000000</td>\n",
              "      <td>1.655574e+08</td>\n",
              "      <td>435843.280000</td>\n",
              "      <td>70.500000</td>\n",
              "      <td>176.000000</td>\n",
              "      <td>76.000000</td>\n",
              "      <td>15.000000</td>\n",
              "      <td>3.287897e+07</td>\n",
              "      <td>1.539738e+09</td>\n",
              "      <td>7.000000</td>\n",
              "      <td>15.000000</td>\n",
              "    </tr>\n",
              "  </tbody>\n",
              "</table>\n",
              "</div>"
            ],
            "text/plain": [
              "       Current Loan Amount  Credit Score  Annual Income   Monthly Debt  \\\n",
              "count         8.978500e+04  70631.000000   7.063100e+04   89785.000000   \n",
              "mean          1.306089e+07   1130.830598   1.375894e+06   18396.906410   \n",
              "std           3.329556e+07   1571.037395   1.104852e+06   12145.282372   \n",
              "min           1.080200e+04    585.000000   7.662700e+04       0.000000   \n",
              "25%           1.802680e+05    708.000000   8.479320e+05   10157.400000   \n",
              "50%           3.138740e+05    729.000000   1.168975e+06   16140.310000   \n",
              "75%           5.323780e+05    742.000000   1.648915e+06   23918.910000   \n",
              "max           1.000000e+08   7510.000000   1.655574e+08  435843.280000   \n",
              "\n",
              "       Years of Credit History  Months since last delinquent  \\\n",
              "count             89785.000000                  41448.000000   \n",
              "mean                 18.248642                     34.975873   \n",
              "std                   7.034607                     22.008585   \n",
              "min                   3.600000                      0.000000   \n",
              "25%                  13.500000                     16.000000   \n",
              "50%                  17.000000                     32.000000   \n",
              "75%                  21.700000                     51.000000   \n",
              "max                  70.500000                    176.000000   \n",
              "\n",
              "       Number of Open Accounts  Number of Credit Problems  \\\n",
              "count             89785.000000               89785.000000   \n",
              "mean                 11.123250                   0.164983   \n",
              "std                   4.998884                   0.478010   \n",
              "min                   0.000000                   0.000000   \n",
              "25%                   8.000000                   0.000000   \n",
              "50%                  10.000000                   0.000000   \n",
              "75%                  14.000000                   0.000000   \n",
              "max                  76.000000                  15.000000   \n",
              "\n",
              "       Current Credit Balance  Maximum Open Credit  Bankruptcies     Tax Liens  \n",
              "count            8.978500e+04         8.978300e+04  89595.000000  89776.000000  \n",
              "mean             2.940351e+05         7.756565e+05      0.115531      0.028605  \n",
              "std              3.722277e+05         8.803517e+06      0.347919      0.255108  \n",
              "min              0.000000e+00         0.000000e+00      0.000000      0.000000  \n",
              "25%              1.129360e+05         2.770680e+05      0.000000      0.000000  \n",
              "50%              2.097220e+05         4.726920e+05      0.000000      0.000000  \n",
              "75%              3.675170e+05         7.914500e+05      0.000000      0.000000  \n",
              "max              3.287897e+07         1.539738e+09      7.000000     15.000000  "
            ]
          },
          "execution_count": 17,
          "metadata": {},
          "output_type": "execute_result"
        }
      ],
      "source": [
        "#generate descriptive statistics of the dataframe\n",
        "credit.describe()"
      ]
    },
    {
      "cell_type": "code",
      "execution_count": null,
      "id": "7505d537",
      "metadata": {
        "id": "7505d537",
        "outputId": "5fadcc89-ca17-4529-bef7-725ebb8ccbea"
      },
      "outputs": [
        {
          "data": {
            "text/plain": [
              "Loan ID                             1\n",
              "Customer ID                         1\n",
              "Loan Status                         1\n",
              "Current Loan Amount                 1\n",
              "Term                                1\n",
              "Credit Score                    19155\n",
              "Annual Income                   19155\n",
              "Years in current job             3803\n",
              "Home Ownership                      1\n",
              "Purpose                             1\n",
              "Monthly Debt                        1\n",
              "Years of Credit History             1\n",
              "Months since last delinquent    48338\n",
              "Number of Open Accounts             1\n",
              "Number of Credit Problems           1\n",
              "Current Credit Balance              1\n",
              "Maximum Open Credit                 3\n",
              "Bankruptcies                      191\n",
              "Tax Liens                          10\n",
              "dtype: int64"
            ]
          },
          "execution_count": 21,
          "metadata": {},
          "output_type": "execute_result"
        }
      ],
      "source": [
        "credit.isnull().sum()"
      ]
    },
    {
      "cell_type": "code",
      "execution_count": null,
      "id": "2c40f9c3",
      "metadata": {
        "id": "2c40f9c3",
        "outputId": "5b4a25a4-a400-4f97-be3d-3d07234dbd7e"
      },
      "outputs": [
        {
          "data": {
            "text/plain": [
              "Loan ID                             1\n",
              "Customer ID                         1\n",
              "Loan Status                         1\n",
              "Current Loan Amount                 1\n",
              "Term                                1\n",
              "Credit Score                    19155\n",
              "Annual Income                   19155\n",
              "Years in current job             3803\n",
              "Home Ownership                      1\n",
              "Purpose                             1\n",
              "Monthly Debt                        1\n",
              "Years of Credit History             1\n",
              "Months since last delinquent    48338\n",
              "Number of Open Accounts             1\n",
              "Number of Credit Problems           1\n",
              "Current Credit Balance              1\n",
              "Maximum Open Credit                 3\n",
              "Bankruptcies                      191\n",
              "Tax Liens                          10\n",
              "dtype: int64"
            ]
          },
          "execution_count": 19,
          "metadata": {},
          "output_type": "execute_result"
        }
      ],
      "source": [
        "#checking the count of null values\n",
        "credit.isna().sum()"
      ]
    },
    {
      "cell_type": "code",
      "execution_count": null,
      "id": "b294c5a9",
      "metadata": {
        "id": "b294c5a9",
        "outputId": "280d3945-04c2-4c9c-a816-c303060a22dc"
      },
      "outputs": [
        {
          "data": {
            "text/plain": [
              "Index(['Loan ID', 'Customer ID', 'Loan Status', 'Current Loan Amount', 'Term',\n",
              "       'Credit Score', 'Annual Income', 'Years in current job',\n",
              "       'Home Ownership', 'Purpose', 'Monthly Debt', 'Years of Credit History',\n",
              "       'Months since last delinquent', 'Number of Open Accounts',\n",
              "       'Number of Credit Problems', 'Current Credit Balance',\n",
              "       'Maximum Open Credit', 'Bankruptcies', 'Tax Liens'],\n",
              "      dtype='object')"
            ]
          },
          "execution_count": 28,
          "metadata": {},
          "output_type": "execute_result"
        }
      ],
      "source": [
        "#observation of all the columns\n",
        "credit.columns"
      ]
    },
    {
      "cell_type": "code",
      "execution_count": null,
      "id": "b6bf4fcb",
      "metadata": {
        "id": "b6bf4fcb",
        "outputId": "c59ffbae-4c78-44c6-df84-4a7a7a982fd9"
      },
      "outputs": [
        {
          "data": {
            "text/plain": [
              "<bound method DataFrame.value_counts of                                      Loan ID  \\\n",
              "0       14dd8831-6af5-400b-83ec-68e61888a048   \n",
              "1       4771cc26-131a-45db-b5aa-537ea4ba5342   \n",
              "2       4eed4e6a-aa2f-4c91-8651-ce984ee8fb26   \n",
              "3       77598f7b-32e7-4e3b-a6e5-06ba0d98fe8a   \n",
              "4       d4062e70-befa-4995-8643-a0de73938182   \n",
              "...                                      ...   \n",
              "99996   06eba04f-58fc-424a-b666-ed72aa008900   \n",
              "99997   e1cb4050-eff5-4bdb-a1b0-aabd3f7eaac7   \n",
              "99998   81ab928b-d1a5-4523-9a3c-271ebb01b4fb   \n",
              "99999   c63916c6-6d46-47a9-949a-51d09af4414f   \n",
              "100000                                   NaN   \n",
              "\n",
              "                                 Customer ID Loan Status  Current Loan Amount  \\\n",
              "0       981165ec-3274-42f5-a3b4-d104041a9ca9  Fully Paid             445412.0   \n",
              "1       2de017a3-2e01-49cb-a581-08169e83be29  Fully Paid             262328.0   \n",
              "2       5efb2b2b-bf11-4dfd-a572-3761a2694725  Fully Paid           99999999.0   \n",
              "3       e777faab-98ae-45af-9a86-7ce5b33b1011  Fully Paid             347666.0   \n",
              "4       81536ad9-5ccf-4eb8-befb-47a4d608658e  Fully Paid             176220.0   \n",
              "...                                      ...         ...                  ...   \n",
              "99996   77f2252a-b7d1-4b07-a746-1202a8304290  Fully Paid           99999999.0   \n",
              "99997   2ced5f10-bd60-4a11-9134-cadce4e7b0a3  Fully Paid             103136.0   \n",
              "99998   3e45ffda-99fd-4cfc-b8b8-446f4a505f36  Fully Paid             530332.0   \n",
              "99999   1b3014be-5c07-4d41-abe7-44573c375886  Fully Paid           99999999.0   \n",
              "100000                                   NaN         NaN                  NaN   \n",
              "\n",
              "              Term  Credit Score  Annual Income Years in current job  \\\n",
              "0       Short Term         709.0      1167493.0              8 years   \n",
              "1       Short Term           NaN            NaN            10+ years   \n",
              "2       Short Term         741.0      2231892.0              8 years   \n",
              "3        Long Term         721.0       806949.0              3 years   \n",
              "4       Short Term           NaN            NaN              5 years   \n",
              "...            ...           ...            ...                  ...   \n",
              "99996   Short Term         732.0      1289416.0               1 year   \n",
              "99997   Short Term         742.0      1150545.0              6 years   \n",
              "99998   Short Term         746.0      1717524.0              9 years   \n",
              "99999   Short Term         743.0       935180.0                  NaN   \n",
              "100000         NaN           NaN            NaN                  NaN   \n",
              "\n",
              "       Home Ownership             Purpose  Monthly Debt  \\\n",
              "0       Home Mortgage   Home Improvements       5214.74   \n",
              "1       Home Mortgage  Debt Consolidation      33295.98   \n",
              "2            Own Home  Debt Consolidation      29200.53   \n",
              "3            Own Home  Debt Consolidation       8741.90   \n",
              "4                Rent  Debt Consolidation      20639.70   \n",
              "...               ...                 ...           ...   \n",
              "99996            Rent  Debt Consolidation      13109.05   \n",
              "99997            Rent  Debt Consolidation       7315.57   \n",
              "99998            Rent  Debt Consolidation       9890.07   \n",
              "99999        Own Home  Debt Consolidation       9118.10   \n",
              "100000            NaN                 NaN           NaN   \n",
              "\n",
              "        Years of Credit History  Months since last delinquent  \\\n",
              "0                          17.2                           NaN   \n",
              "1                          21.1                           8.0   \n",
              "2                          14.9                          29.0   \n",
              "3                          12.0                           NaN   \n",
              "4                           6.1                           NaN   \n",
              "...                         ...                           ...   \n",
              "99996                       9.4                          21.0   \n",
              "99997                      18.8                          18.0   \n",
              "99998                      15.0                           NaN   \n",
              "99999                      13.0                           NaN   \n",
              "100000                      NaN                           NaN   \n",
              "\n",
              "        Number of Open Accounts  Number of Credit Problems  \\\n",
              "0                           6.0                        1.0   \n",
              "1                          35.0                        0.0   \n",
              "2                          18.0                        1.0   \n",
              "3                           9.0                        0.0   \n",
              "4                          15.0                        0.0   \n",
              "...                         ...                        ...   \n",
              "99996                      22.0                        0.0   \n",
              "99997                      12.0                        1.0   \n",
              "99998                       8.0                        0.0   \n",
              "99999                       4.0                        1.0   \n",
              "100000                      NaN                        NaN   \n",
              "\n",
              "        Current Credit Balance  Maximum Open Credit  Bankruptcies  Tax Liens  \n",
              "0                     228190.0             416746.0           1.0        0.0  \n",
              "1                     229976.0             850784.0           0.0        0.0  \n",
              "2                     297996.0             750090.0           0.0        0.0  \n",
              "3                     256329.0             386958.0           0.0        0.0  \n",
              "4                     253460.0             427174.0           0.0        0.0  \n",
              "...                        ...                  ...           ...        ...  \n",
              "99996                 153045.0             509234.0           0.0        0.0  \n",
              "99997                 109554.0             537548.0           1.0        0.0  \n",
              "99998                 404225.0             738254.0           0.0        0.0  \n",
              "99999                  45600.0              91014.0           1.0        0.0  \n",
              "100000                     NaN                  NaN           NaN        NaN  \n",
              "\n",
              "[89786 rows x 19 columns]>"
            ]
          },
          "execution_count": 31,
          "metadata": {},
          "output_type": "execute_result"
        }
      ],
      "source": [
        "#checking for unique occurrences\n",
        "credit.value_counts"
      ]
    },
    {
      "cell_type": "code",
      "execution_count": null,
      "id": "7bee08ae",
      "metadata": {
        "id": "7bee08ae",
        "outputId": "4db4a0dc-267d-436a-dc80-851046e95326"
      },
      "outputs": [
        {
          "data": {
            "text/plain": [
              "(89786, 19)"
            ]
          },
          "execution_count": 32,
          "metadata": {},
          "output_type": "execute_result"
        }
      ],
      "source": [
        "#rechecking for the shape\n",
        "credit.shape"
      ]
    },
    {
      "cell_type": "code",
      "execution_count": null,
      "id": "9daf7710",
      "metadata": {
        "id": "9daf7710",
        "outputId": "299abece-10b8-47e0-948b-bb5e5f56fed9"
      },
      "outputs": [
        {
          "data": {
            "text/html": [
              "<div>\n",
              "<style scoped>\n",
              "    .dataframe tbody tr th:only-of-type {\n",
              "        vertical-align: middle;\n",
              "    }\n",
              "\n",
              "    .dataframe tbody tr th {\n",
              "        vertical-align: top;\n",
              "    }\n",
              "\n",
              "    .dataframe thead th {\n",
              "        text-align: right;\n",
              "    }\n",
              "</style>\n",
              "<table border=\"1\" class=\"dataframe\">\n",
              "  <thead>\n",
              "    <tr style=\"text-align: right;\">\n",
              "      <th></th>\n",
              "      <th>column</th>\n",
              "      <th>dtypes</th>\n",
              "      <th>nunique</th>\n",
              "      <th>sum_null</th>\n",
              "    </tr>\n",
              "  </thead>\n",
              "  <tbody>\n",
              "    <tr>\n",
              "      <th>0</th>\n",
              "      <td>Loan ID</td>\n",
              "      <td>object</td>\n",
              "      <td>81999</td>\n",
              "      <td>1</td>\n",
              "    </tr>\n",
              "    <tr>\n",
              "      <th>1</th>\n",
              "      <td>Customer ID</td>\n",
              "      <td>object</td>\n",
              "      <td>81999</td>\n",
              "      <td>1</td>\n",
              "    </tr>\n",
              "    <tr>\n",
              "      <th>2</th>\n",
              "      <td>Loan Status</td>\n",
              "      <td>object</td>\n",
              "      <td>2</td>\n",
              "      <td>1</td>\n",
              "    </tr>\n",
              "    <tr>\n",
              "      <th>3</th>\n",
              "      <td>Current Loan Amount</td>\n",
              "      <td>float64</td>\n",
              "      <td>22004</td>\n",
              "      <td>1</td>\n",
              "    </tr>\n",
              "    <tr>\n",
              "      <th>4</th>\n",
              "      <td>Term</td>\n",
              "      <td>object</td>\n",
              "      <td>2</td>\n",
              "      <td>1</td>\n",
              "    </tr>\n",
              "    <tr>\n",
              "      <th>5</th>\n",
              "      <td>Credit Score</td>\n",
              "      <td>float64</td>\n",
              "      <td>324</td>\n",
              "      <td>19155</td>\n",
              "    </tr>\n",
              "    <tr>\n",
              "      <th>6</th>\n",
              "      <td>Annual Income</td>\n",
              "      <td>float64</td>\n",
              "      <td>36174</td>\n",
              "      <td>19155</td>\n",
              "    </tr>\n",
              "    <tr>\n",
              "      <th>7</th>\n",
              "      <td>Years in current job</td>\n",
              "      <td>object</td>\n",
              "      <td>11</td>\n",
              "      <td>3803</td>\n",
              "    </tr>\n",
              "    <tr>\n",
              "      <th>8</th>\n",
              "      <td>Home Ownership</td>\n",
              "      <td>object</td>\n",
              "      <td>4</td>\n",
              "      <td>1</td>\n",
              "    </tr>\n",
              "    <tr>\n",
              "      <th>9</th>\n",
              "      <td>Purpose</td>\n",
              "      <td>object</td>\n",
              "      <td>16</td>\n",
              "      <td>1</td>\n",
              "    </tr>\n",
              "    <tr>\n",
              "      <th>10</th>\n",
              "      <td>Monthly Debt</td>\n",
              "      <td>float64</td>\n",
              "      <td>65765</td>\n",
              "      <td>1</td>\n",
              "    </tr>\n",
              "    <tr>\n",
              "      <th>11</th>\n",
              "      <td>Years of Credit History</td>\n",
              "      <td>float64</td>\n",
              "      <td>506</td>\n",
              "      <td>1</td>\n",
              "    </tr>\n",
              "    <tr>\n",
              "      <th>12</th>\n",
              "      <td>Months since last delinquent</td>\n",
              "      <td>float64</td>\n",
              "      <td>116</td>\n",
              "      <td>48338</td>\n",
              "    </tr>\n",
              "    <tr>\n",
              "      <th>13</th>\n",
              "      <td>Number of Open Accounts</td>\n",
              "      <td>float64</td>\n",
              "      <td>51</td>\n",
              "      <td>1</td>\n",
              "    </tr>\n",
              "    <tr>\n",
              "      <th>14</th>\n",
              "      <td>Number of Credit Problems</td>\n",
              "      <td>float64</td>\n",
              "      <td>14</td>\n",
              "      <td>1</td>\n",
              "    </tr>\n",
              "    <tr>\n",
              "      <th>15</th>\n",
              "      <td>Current Credit Balance</td>\n",
              "      <td>float64</td>\n",
              "      <td>32730</td>\n",
              "      <td>1</td>\n",
              "    </tr>\n",
              "    <tr>\n",
              "      <th>16</th>\n",
              "      <td>Maximum Open Credit</td>\n",
              "      <td>float64</td>\n",
              "      <td>44596</td>\n",
              "      <td>3</td>\n",
              "    </tr>\n",
              "    <tr>\n",
              "      <th>17</th>\n",
              "      <td>Bankruptcies</td>\n",
              "      <td>float64</td>\n",
              "      <td>8</td>\n",
              "      <td>191</td>\n",
              "    </tr>\n",
              "    <tr>\n",
              "      <th>18</th>\n",
              "      <td>Tax Liens</td>\n",
              "      <td>float64</td>\n",
              "      <td>12</td>\n",
              "      <td>10</td>\n",
              "    </tr>\n",
              "  </tbody>\n",
              "</table>\n",
              "</div>"
            ],
            "text/plain": [
              "                          column   dtypes  nunique  sum_null\n",
              "0                        Loan ID   object    81999         1\n",
              "1                    Customer ID   object    81999         1\n",
              "2                    Loan Status   object        2         1\n",
              "3            Current Loan Amount  float64    22004         1\n",
              "4                           Term   object        2         1\n",
              "5                   Credit Score  float64      324     19155\n",
              "6                  Annual Income  float64    36174     19155\n",
              "7           Years in current job   object       11      3803\n",
              "8                 Home Ownership   object        4         1\n",
              "9                        Purpose   object       16         1\n",
              "10                  Monthly Debt  float64    65765         1\n",
              "11       Years of Credit History  float64      506         1\n",
              "12  Months since last delinquent  float64      116     48338\n",
              "13       Number of Open Accounts  float64       51         1\n",
              "14     Number of Credit Problems  float64       14         1\n",
              "15        Current Credit Balance  float64    32730         1\n",
              "16           Maximum Open Credit  float64    44596         3\n",
              "17                  Bankruptcies  float64        8       191\n",
              "18                     Tax Liens  float64       12        10"
            ]
          },
          "execution_count": 35,
          "metadata": {},
          "output_type": "execute_result"
        }
      ],
      "source": [
        "#summary of all the columns\n",
        "\n",
        "def check (df):\n",
        "    l=[]\n",
        "    columns=df.columns\n",
        "    for col in columns:\n",
        "        dtypes=df[col].dtypes\n",
        "        nunique= df[col].nunique()\n",
        "        sum_null=df[col].isnull().sum()\n",
        "        l.append([col,dtypes,nunique,sum_null])\n",
        "    df_check=pd.DataFrame(l)\n",
        "    df_check.columns=[\"column\", \"dtypes\", \"nunique\",\"sum_null\"]\n",
        "    return df_check\n",
        "check(credit)"
      ]
    },
    {
      "cell_type": "code",
      "execution_count": null,
      "id": "c4b03bc5",
      "metadata": {
        "id": "c4b03bc5",
        "outputId": "a1ad67fb-d363-4307-b108-c75f9ec26958"
      },
      "outputs": [
        {
          "name": "stdout",
          "output_type": "stream",
          "text": [
            "<class 'pandas.core.frame.DataFrame'>\n",
            "Index: 89786 entries, 0 to 100000\n",
            "Data columns (total 19 columns):\n",
            " #   Column                        Non-Null Count  Dtype  \n",
            "---  ------                        --------------  -----  \n",
            " 0   Loan ID                       89785 non-null  object \n",
            " 1   Customer ID                   89785 non-null  object \n",
            " 2   Loan Status                   89785 non-null  object \n",
            " 3   Current Loan Amount           89785 non-null  float64\n",
            " 4   Term                          89785 non-null  object \n",
            " 5   Credit Score                  70631 non-null  float64\n",
            " 6   Annual Income                 70631 non-null  float64\n",
            " 7   Years in current job          85983 non-null  object \n",
            " 8   Home Ownership                89785 non-null  object \n",
            " 9   Purpose                       89785 non-null  object \n",
            " 10  Monthly Debt                  89785 non-null  float64\n",
            " 11  Years of Credit History       89785 non-null  float64\n",
            " 12  Months since last delinquent  41448 non-null  float64\n",
            " 13  Number of Open Accounts       89785 non-null  float64\n",
            " 14  Number of Credit Problems     89785 non-null  float64\n",
            " 15  Current Credit Balance        89785 non-null  float64\n",
            " 16  Maximum Open Credit           89783 non-null  float64\n",
            " 17  Bankruptcies                  89595 non-null  float64\n",
            " 18  Tax Liens                     89776 non-null  float64\n",
            "dtypes: float64(12), object(7)\n",
            "memory usage: 13.7+ MB\n"
          ]
        }
      ],
      "source": [
        "#understanding the structure and content of the datframe\n",
        "credit.info()"
      ]
    },
    {
      "cell_type": "code",
      "execution_count": null,
      "id": "f2bfcfbe",
      "metadata": {
        "scrolled": true,
        "id": "f2bfcfbe",
        "outputId": "987ba63b-cb16-4030-d5d5-d6f634f8ae6e"
      },
      "outputs": [
        {
          "data": {
            "text/plain": [
              "Loan ID                         81999\n",
              "Customer ID                     81999\n",
              "Loan Status                         2\n",
              "Current Loan Amount             22004\n",
              "Term                                2\n",
              "Credit Score                      324\n",
              "Annual Income                   36174\n",
              "Years in current job               11\n",
              "Home Ownership                      4\n",
              "Purpose                            16\n",
              "Monthly Debt                    65765\n",
              "Years of Credit History           506\n",
              "Months since last delinquent      116\n",
              "Number of Open Accounts            51\n",
              "Number of Credit Problems          14\n",
              "Current Credit Balance          32730\n",
              "Maximum Open Credit             44596\n",
              "Bankruptcies                        8\n",
              "Tax Liens                          12\n",
              "dtype: int64"
            ]
          },
          "execution_count": 38,
          "metadata": {},
          "output_type": "execute_result"
        }
      ],
      "source": [
        "#count of all unique values in the dataframe\n",
        "credit.nunique()"
      ]
    },
    {
      "cell_type": "code",
      "execution_count": null,
      "id": "eb5f6788",
      "metadata": {
        "scrolled": true,
        "id": "eb5f6788",
        "outputId": "755e9ac4-5b61-437c-e002-4867af382814"
      },
      "outputs": [
        {
          "data": {
            "text/html": [
              "<div>\n",
              "<style scoped>\n",
              "    .dataframe tbody tr th:only-of-type {\n",
              "        vertical-align: middle;\n",
              "    }\n",
              "\n",
              "    .dataframe tbody tr th {\n",
              "        vertical-align: top;\n",
              "    }\n",
              "\n",
              "    .dataframe thead th {\n",
              "        text-align: right;\n",
              "    }\n",
              "</style>\n",
              "<table border=\"1\" class=\"dataframe\">\n",
              "  <thead>\n",
              "    <tr style=\"text-align: right;\">\n",
              "      <th></th>\n",
              "      <th>Loan ID</th>\n",
              "      <th>Customer ID</th>\n",
              "      <th>Loan Status</th>\n",
              "      <th>Current Loan Amount</th>\n",
              "      <th>Term</th>\n",
              "      <th>Credit Score</th>\n",
              "      <th>Annual Income</th>\n",
              "      <th>Years in current job</th>\n",
              "      <th>Home Ownership</th>\n",
              "      <th>Purpose</th>\n",
              "      <th>Monthly Debt</th>\n",
              "      <th>Years of Credit History</th>\n",
              "      <th>Months since last delinquent</th>\n",
              "      <th>Number of Open Accounts</th>\n",
              "      <th>Number of Credit Problems</th>\n",
              "      <th>Current Credit Balance</th>\n",
              "      <th>Maximum Open Credit</th>\n",
              "      <th>Bankruptcies</th>\n",
              "      <th>Tax Liens</th>\n",
              "    </tr>\n",
              "  </thead>\n",
              "  <tbody>\n",
              "    <tr>\n",
              "      <th>0</th>\n",
              "      <td>14dd8831-6af5-400b-83ec-68e61888a048</td>\n",
              "      <td>981165ec-3274-42f5-a3b4-d104041a9ca9</td>\n",
              "      <td>Fully Paid</td>\n",
              "      <td>445412.0</td>\n",
              "      <td>Short Term</td>\n",
              "      <td>709.0</td>\n",
              "      <td>1167493.0</td>\n",
              "      <td>8 years</td>\n",
              "      <td>Home Mortgage</td>\n",
              "      <td>Home Improvements</td>\n",
              "      <td>5214.74</td>\n",
              "      <td>17.2</td>\n",
              "      <td>NaN</td>\n",
              "      <td>6.0</td>\n",
              "      <td>1.0</td>\n",
              "      <td>228190.0</td>\n",
              "      <td>416746.0</td>\n",
              "      <td>1.0</td>\n",
              "      <td>0.0</td>\n",
              "    </tr>\n",
              "    <tr>\n",
              "      <th>1</th>\n",
              "      <td>4771cc26-131a-45db-b5aa-537ea4ba5342</td>\n",
              "      <td>2de017a3-2e01-49cb-a581-08169e83be29</td>\n",
              "      <td>Fully Paid</td>\n",
              "      <td>262328.0</td>\n",
              "      <td>Short Term</td>\n",
              "      <td>NaN</td>\n",
              "      <td>NaN</td>\n",
              "      <td>10+ years</td>\n",
              "      <td>Home Mortgage</td>\n",
              "      <td>Debt Consolidation</td>\n",
              "      <td>33295.98</td>\n",
              "      <td>21.1</td>\n",
              "      <td>8.0</td>\n",
              "      <td>35.0</td>\n",
              "      <td>0.0</td>\n",
              "      <td>229976.0</td>\n",
              "      <td>850784.0</td>\n",
              "      <td>0.0</td>\n",
              "      <td>0.0</td>\n",
              "    </tr>\n",
              "  </tbody>\n",
              "</table>\n",
              "</div>"
            ],
            "text/plain": [
              "                                Loan ID                           Customer ID  \\\n",
              "0  14dd8831-6af5-400b-83ec-68e61888a048  981165ec-3274-42f5-a3b4-d104041a9ca9   \n",
              "1  4771cc26-131a-45db-b5aa-537ea4ba5342  2de017a3-2e01-49cb-a581-08169e83be29   \n",
              "\n",
              "  Loan Status  Current Loan Amount        Term  Credit Score  Annual Income  \\\n",
              "0  Fully Paid             445412.0  Short Term         709.0      1167493.0   \n",
              "1  Fully Paid             262328.0  Short Term           NaN            NaN   \n",
              "\n",
              "  Years in current job Home Ownership             Purpose  Monthly Debt  \\\n",
              "0              8 years  Home Mortgage   Home Improvements       5214.74   \n",
              "1            10+ years  Home Mortgage  Debt Consolidation      33295.98   \n",
              "\n",
              "   Years of Credit History  Months since last delinquent  \\\n",
              "0                     17.2                           NaN   \n",
              "1                     21.1                           8.0   \n",
              "\n",
              "   Number of Open Accounts  Number of Credit Problems  Current Credit Balance  \\\n",
              "0                      6.0                        1.0                228190.0   \n",
              "1                     35.0                        0.0                229976.0   \n",
              "\n",
              "   Maximum Open Credit  Bankruptcies  Tax Liens  \n",
              "0             416746.0           1.0        0.0  \n",
              "1             850784.0           0.0        0.0  "
            ]
          },
          "execution_count": 40,
          "metadata": {},
          "output_type": "execute_result"
        }
      ],
      "source": [
        "credit.head(2)"
      ]
    },
    {
      "cell_type": "code",
      "execution_count": null,
      "id": "2247fc28",
      "metadata": {
        "id": "2247fc28"
      },
      "outputs": [],
      "source": [
        "#dropping 2 columns \"Loan ID\", \"Customer ID\" because they both have unique data\n",
        "columns_to_drop = [\"Loan ID\", \"Customer ID\"]\n",
        "existing_columns = credit.columns.intersection(columns_to_drop)\n",
        "credit.drop(existing_columns,axis =1, inplace = True)"
      ]
    },
    {
      "cell_type": "code",
      "execution_count": null,
      "id": "0dc0a6e3",
      "metadata": {
        "scrolled": false,
        "id": "0dc0a6e3",
        "outputId": "802fa6f4-7666-4c4d-8ec2-e5ad28d89b09"
      },
      "outputs": [
        {
          "data": {
            "text/html": [
              "<div>\n",
              "<style scoped>\n",
              "    .dataframe tbody tr th:only-of-type {\n",
              "        vertical-align: middle;\n",
              "    }\n",
              "\n",
              "    .dataframe tbody tr th {\n",
              "        vertical-align: top;\n",
              "    }\n",
              "\n",
              "    .dataframe thead th {\n",
              "        text-align: right;\n",
              "    }\n",
              "</style>\n",
              "<table border=\"1\" class=\"dataframe\">\n",
              "  <thead>\n",
              "    <tr style=\"text-align: right;\">\n",
              "      <th></th>\n",
              "      <th>Loan Status</th>\n",
              "      <th>Current Loan Amount</th>\n",
              "      <th>Term</th>\n",
              "      <th>Credit Score</th>\n",
              "      <th>Annual Income</th>\n",
              "      <th>Years in current job</th>\n",
              "      <th>Home Ownership</th>\n",
              "      <th>Purpose</th>\n",
              "      <th>Monthly Debt</th>\n",
              "      <th>Years of Credit History</th>\n",
              "      <th>Months since last delinquent</th>\n",
              "      <th>Number of Open Accounts</th>\n",
              "      <th>Number of Credit Problems</th>\n",
              "      <th>Current Credit Balance</th>\n",
              "      <th>Maximum Open Credit</th>\n",
              "      <th>Bankruptcies</th>\n",
              "      <th>Tax Liens</th>\n",
              "    </tr>\n",
              "  </thead>\n",
              "  <tbody>\n",
              "    <tr>\n",
              "      <th>0</th>\n",
              "      <td>Fully Paid</td>\n",
              "      <td>445412.0</td>\n",
              "      <td>Short Term</td>\n",
              "      <td>709.0</td>\n",
              "      <td>1167493.0</td>\n",
              "      <td>8 years</td>\n",
              "      <td>Home Mortgage</td>\n",
              "      <td>Home Improvements</td>\n",
              "      <td>5214.74</td>\n",
              "      <td>17.2</td>\n",
              "      <td>NaN</td>\n",
              "      <td>6.0</td>\n",
              "      <td>1.0</td>\n",
              "      <td>228190.0</td>\n",
              "      <td>416746.0</td>\n",
              "      <td>1.0</td>\n",
              "      <td>0.0</td>\n",
              "    </tr>\n",
              "    <tr>\n",
              "      <th>1</th>\n",
              "      <td>Fully Paid</td>\n",
              "      <td>262328.0</td>\n",
              "      <td>Short Term</td>\n",
              "      <td>NaN</td>\n",
              "      <td>NaN</td>\n",
              "      <td>10+ years</td>\n",
              "      <td>Home Mortgage</td>\n",
              "      <td>Debt Consolidation</td>\n",
              "      <td>33295.98</td>\n",
              "      <td>21.1</td>\n",
              "      <td>8.0</td>\n",
              "      <td>35.0</td>\n",
              "      <td>0.0</td>\n",
              "      <td>229976.0</td>\n",
              "      <td>850784.0</td>\n",
              "      <td>0.0</td>\n",
              "      <td>0.0</td>\n",
              "    </tr>\n",
              "    <tr>\n",
              "      <th>2</th>\n",
              "      <td>Fully Paid</td>\n",
              "      <td>99999999.0</td>\n",
              "      <td>Short Term</td>\n",
              "      <td>741.0</td>\n",
              "      <td>2231892.0</td>\n",
              "      <td>8 years</td>\n",
              "      <td>Own Home</td>\n",
              "      <td>Debt Consolidation</td>\n",
              "      <td>29200.53</td>\n",
              "      <td>14.9</td>\n",
              "      <td>29.0</td>\n",
              "      <td>18.0</td>\n",
              "      <td>1.0</td>\n",
              "      <td>297996.0</td>\n",
              "      <td>750090.0</td>\n",
              "      <td>0.0</td>\n",
              "      <td>0.0</td>\n",
              "    </tr>\n",
              "    <tr>\n",
              "      <th>3</th>\n",
              "      <td>Fully Paid</td>\n",
              "      <td>347666.0</td>\n",
              "      <td>Long Term</td>\n",
              "      <td>721.0</td>\n",
              "      <td>806949.0</td>\n",
              "      <td>3 years</td>\n",
              "      <td>Own Home</td>\n",
              "      <td>Debt Consolidation</td>\n",
              "      <td>8741.90</td>\n",
              "      <td>12.0</td>\n",
              "      <td>NaN</td>\n",
              "      <td>9.0</td>\n",
              "      <td>0.0</td>\n",
              "      <td>256329.0</td>\n",
              "      <td>386958.0</td>\n",
              "      <td>0.0</td>\n",
              "      <td>0.0</td>\n",
              "    </tr>\n",
              "    <tr>\n",
              "      <th>4</th>\n",
              "      <td>Fully Paid</td>\n",
              "      <td>176220.0</td>\n",
              "      <td>Short Term</td>\n",
              "      <td>NaN</td>\n",
              "      <td>NaN</td>\n",
              "      <td>5 years</td>\n",
              "      <td>Rent</td>\n",
              "      <td>Debt Consolidation</td>\n",
              "      <td>20639.70</td>\n",
              "      <td>6.1</td>\n",
              "      <td>NaN</td>\n",
              "      <td>15.0</td>\n",
              "      <td>0.0</td>\n",
              "      <td>253460.0</td>\n",
              "      <td>427174.0</td>\n",
              "      <td>0.0</td>\n",
              "      <td>0.0</td>\n",
              "    </tr>\n",
              "    <tr>\n",
              "      <th>...</th>\n",
              "      <td>...</td>\n",
              "      <td>...</td>\n",
              "      <td>...</td>\n",
              "      <td>...</td>\n",
              "      <td>...</td>\n",
              "      <td>...</td>\n",
              "      <td>...</td>\n",
              "      <td>...</td>\n",
              "      <td>...</td>\n",
              "      <td>...</td>\n",
              "      <td>...</td>\n",
              "      <td>...</td>\n",
              "      <td>...</td>\n",
              "      <td>...</td>\n",
              "      <td>...</td>\n",
              "      <td>...</td>\n",
              "      <td>...</td>\n",
              "    </tr>\n",
              "    <tr>\n",
              "      <th>99996</th>\n",
              "      <td>Fully Paid</td>\n",
              "      <td>99999999.0</td>\n",
              "      <td>Short Term</td>\n",
              "      <td>732.0</td>\n",
              "      <td>1289416.0</td>\n",
              "      <td>1 year</td>\n",
              "      <td>Rent</td>\n",
              "      <td>Debt Consolidation</td>\n",
              "      <td>13109.05</td>\n",
              "      <td>9.4</td>\n",
              "      <td>21.0</td>\n",
              "      <td>22.0</td>\n",
              "      <td>0.0</td>\n",
              "      <td>153045.0</td>\n",
              "      <td>509234.0</td>\n",
              "      <td>0.0</td>\n",
              "      <td>0.0</td>\n",
              "    </tr>\n",
              "    <tr>\n",
              "      <th>99997</th>\n",
              "      <td>Fully Paid</td>\n",
              "      <td>103136.0</td>\n",
              "      <td>Short Term</td>\n",
              "      <td>742.0</td>\n",
              "      <td>1150545.0</td>\n",
              "      <td>6 years</td>\n",
              "      <td>Rent</td>\n",
              "      <td>Debt Consolidation</td>\n",
              "      <td>7315.57</td>\n",
              "      <td>18.8</td>\n",
              "      <td>18.0</td>\n",
              "      <td>12.0</td>\n",
              "      <td>1.0</td>\n",
              "      <td>109554.0</td>\n",
              "      <td>537548.0</td>\n",
              "      <td>1.0</td>\n",
              "      <td>0.0</td>\n",
              "    </tr>\n",
              "    <tr>\n",
              "      <th>99998</th>\n",
              "      <td>Fully Paid</td>\n",
              "      <td>530332.0</td>\n",
              "      <td>Short Term</td>\n",
              "      <td>746.0</td>\n",
              "      <td>1717524.0</td>\n",
              "      <td>9 years</td>\n",
              "      <td>Rent</td>\n",
              "      <td>Debt Consolidation</td>\n",
              "      <td>9890.07</td>\n",
              "      <td>15.0</td>\n",
              "      <td>NaN</td>\n",
              "      <td>8.0</td>\n",
              "      <td>0.0</td>\n",
              "      <td>404225.0</td>\n",
              "      <td>738254.0</td>\n",
              "      <td>0.0</td>\n",
              "      <td>0.0</td>\n",
              "    </tr>\n",
              "    <tr>\n",
              "      <th>99999</th>\n",
              "      <td>Fully Paid</td>\n",
              "      <td>99999999.0</td>\n",
              "      <td>Short Term</td>\n",
              "      <td>743.0</td>\n",
              "      <td>935180.0</td>\n",
              "      <td>NaN</td>\n",
              "      <td>Own Home</td>\n",
              "      <td>Debt Consolidation</td>\n",
              "      <td>9118.10</td>\n",
              "      <td>13.0</td>\n",
              "      <td>NaN</td>\n",
              "      <td>4.0</td>\n",
              "      <td>1.0</td>\n",
              "      <td>45600.0</td>\n",
              "      <td>91014.0</td>\n",
              "      <td>1.0</td>\n",
              "      <td>0.0</td>\n",
              "    </tr>\n",
              "    <tr>\n",
              "      <th>100000</th>\n",
              "      <td>NaN</td>\n",
              "      <td>NaN</td>\n",
              "      <td>NaN</td>\n",
              "      <td>NaN</td>\n",
              "      <td>NaN</td>\n",
              "      <td>NaN</td>\n",
              "      <td>NaN</td>\n",
              "      <td>NaN</td>\n",
              "      <td>NaN</td>\n",
              "      <td>NaN</td>\n",
              "      <td>NaN</td>\n",
              "      <td>NaN</td>\n",
              "      <td>NaN</td>\n",
              "      <td>NaN</td>\n",
              "      <td>NaN</td>\n",
              "      <td>NaN</td>\n",
              "      <td>NaN</td>\n",
              "    </tr>\n",
              "  </tbody>\n",
              "</table>\n",
              "<p>89786 rows × 17 columns</p>\n",
              "</div>"
            ],
            "text/plain": [
              "       Loan Status  Current Loan Amount        Term  Credit Score  \\\n",
              "0       Fully Paid             445412.0  Short Term         709.0   \n",
              "1       Fully Paid             262328.0  Short Term           NaN   \n",
              "2       Fully Paid           99999999.0  Short Term         741.0   \n",
              "3       Fully Paid             347666.0   Long Term         721.0   \n",
              "4       Fully Paid             176220.0  Short Term           NaN   \n",
              "...            ...                  ...         ...           ...   \n",
              "99996   Fully Paid           99999999.0  Short Term         732.0   \n",
              "99997   Fully Paid             103136.0  Short Term         742.0   \n",
              "99998   Fully Paid             530332.0  Short Term         746.0   \n",
              "99999   Fully Paid           99999999.0  Short Term         743.0   \n",
              "100000         NaN                  NaN         NaN           NaN   \n",
              "\n",
              "        Annual Income Years in current job Home Ownership             Purpose  \\\n",
              "0           1167493.0              8 years  Home Mortgage   Home Improvements   \n",
              "1                 NaN            10+ years  Home Mortgage  Debt Consolidation   \n",
              "2           2231892.0              8 years       Own Home  Debt Consolidation   \n",
              "3            806949.0              3 years       Own Home  Debt Consolidation   \n",
              "4                 NaN              5 years           Rent  Debt Consolidation   \n",
              "...               ...                  ...            ...                 ...   \n",
              "99996       1289416.0               1 year           Rent  Debt Consolidation   \n",
              "99997       1150545.0              6 years           Rent  Debt Consolidation   \n",
              "99998       1717524.0              9 years           Rent  Debt Consolidation   \n",
              "99999        935180.0                  NaN       Own Home  Debt Consolidation   \n",
              "100000            NaN                  NaN            NaN                 NaN   \n",
              "\n",
              "        Monthly Debt  Years of Credit History  Months since last delinquent  \\\n",
              "0            5214.74                     17.2                           NaN   \n",
              "1           33295.98                     21.1                           8.0   \n",
              "2           29200.53                     14.9                          29.0   \n",
              "3            8741.90                     12.0                           NaN   \n",
              "4           20639.70                      6.1                           NaN   \n",
              "...              ...                      ...                           ...   \n",
              "99996       13109.05                      9.4                          21.0   \n",
              "99997        7315.57                     18.8                          18.0   \n",
              "99998        9890.07                     15.0                           NaN   \n",
              "99999        9118.10                     13.0                           NaN   \n",
              "100000           NaN                      NaN                           NaN   \n",
              "\n",
              "        Number of Open Accounts  Number of Credit Problems  \\\n",
              "0                           6.0                        1.0   \n",
              "1                          35.0                        0.0   \n",
              "2                          18.0                        1.0   \n",
              "3                           9.0                        0.0   \n",
              "4                          15.0                        0.0   \n",
              "...                         ...                        ...   \n",
              "99996                      22.0                        0.0   \n",
              "99997                      12.0                        1.0   \n",
              "99998                       8.0                        0.0   \n",
              "99999                       4.0                        1.0   \n",
              "100000                      NaN                        NaN   \n",
              "\n",
              "        Current Credit Balance  Maximum Open Credit  Bankruptcies  Tax Liens  \n",
              "0                     228190.0             416746.0           1.0        0.0  \n",
              "1                     229976.0             850784.0           0.0        0.0  \n",
              "2                     297996.0             750090.0           0.0        0.0  \n",
              "3                     256329.0             386958.0           0.0        0.0  \n",
              "4                     253460.0             427174.0           0.0        0.0  \n",
              "...                        ...                  ...           ...        ...  \n",
              "99996                 153045.0             509234.0           0.0        0.0  \n",
              "99997                 109554.0             537548.0           1.0        0.0  \n",
              "99998                 404225.0             738254.0           0.0        0.0  \n",
              "99999                  45600.0              91014.0           1.0        0.0  \n",
              "100000                     NaN                  NaN           NaN        NaN  \n",
              "\n",
              "[89786 rows x 17 columns]"
            ]
          },
          "execution_count": 52,
          "metadata": {},
          "output_type": "execute_result"
        }
      ],
      "source": [
        "credit.drop_duplicates(inplace = True)\n",
        "credit"
      ]
    },
    {
      "cell_type": "code",
      "execution_count": null,
      "id": "6e109888",
      "metadata": {
        "id": "6e109888",
        "outputId": "2f0a1893-27fd-458a-e575-d64d76934919"
      },
      "outputs": [
        {
          "data": {
            "text/html": [
              "<div>\n",
              "<style scoped>\n",
              "    .dataframe tbody tr th:only-of-type {\n",
              "        vertical-align: middle;\n",
              "    }\n",
              "\n",
              "    .dataframe tbody tr th {\n",
              "        vertical-align: top;\n",
              "    }\n",
              "\n",
              "    .dataframe thead th {\n",
              "        text-align: right;\n",
              "    }\n",
              "</style>\n",
              "<table border=\"1\" class=\"dataframe\">\n",
              "  <thead>\n",
              "    <tr style=\"text-align: right;\">\n",
              "      <th></th>\n",
              "      <th>Loan Status</th>\n",
              "      <th>Current Loan Amount</th>\n",
              "      <th>Term</th>\n",
              "      <th>Credit Score</th>\n",
              "      <th>Annual Income</th>\n",
              "      <th>Years in current job</th>\n",
              "      <th>Home Ownership</th>\n",
              "      <th>Purpose</th>\n",
              "      <th>Monthly Debt</th>\n",
              "      <th>Years of Credit History</th>\n",
              "      <th>Months since last delinquent</th>\n",
              "      <th>Number of Open Accounts</th>\n",
              "      <th>Number of Credit Problems</th>\n",
              "      <th>Current Credit Balance</th>\n",
              "      <th>Maximum Open Credit</th>\n",
              "      <th>Bankruptcies</th>\n",
              "      <th>Tax Liens</th>\n",
              "    </tr>\n",
              "  </thead>\n",
              "  <tbody>\n",
              "    <tr>\n",
              "      <th>0</th>\n",
              "      <td>Fully Paid</td>\n",
              "      <td>445412.0</td>\n",
              "      <td>Short Term</td>\n",
              "      <td>709.0</td>\n",
              "      <td>1167493.0</td>\n",
              "      <td>8 years</td>\n",
              "      <td>Home Mortgage</td>\n",
              "      <td>Home Improvements</td>\n",
              "      <td>5214.74</td>\n",
              "      <td>17.2</td>\n",
              "      <td>NaN</td>\n",
              "      <td>6.0</td>\n",
              "      <td>1.0</td>\n",
              "      <td>228190.0</td>\n",
              "      <td>416746.0</td>\n",
              "      <td>1.0</td>\n",
              "      <td>0.0</td>\n",
              "    </tr>\n",
              "    <tr>\n",
              "      <th>1</th>\n",
              "      <td>Fully Paid</td>\n",
              "      <td>262328.0</td>\n",
              "      <td>Short Term</td>\n",
              "      <td>NaN</td>\n",
              "      <td>NaN</td>\n",
              "      <td>10+ years</td>\n",
              "      <td>Home Mortgage</td>\n",
              "      <td>Debt Consolidation</td>\n",
              "      <td>33295.98</td>\n",
              "      <td>21.1</td>\n",
              "      <td>8.0</td>\n",
              "      <td>35.0</td>\n",
              "      <td>0.0</td>\n",
              "      <td>229976.0</td>\n",
              "      <td>850784.0</td>\n",
              "      <td>0.0</td>\n",
              "      <td>0.0</td>\n",
              "    </tr>\n",
              "  </tbody>\n",
              "</table>\n",
              "</div>"
            ],
            "text/plain": [
              "  Loan Status  Current Loan Amount        Term  Credit Score  Annual Income  \\\n",
              "0  Fully Paid             445412.0  Short Term         709.0      1167493.0   \n",
              "1  Fully Paid             262328.0  Short Term           NaN            NaN   \n",
              "\n",
              "  Years in current job Home Ownership             Purpose  Monthly Debt  \\\n",
              "0              8 years  Home Mortgage   Home Improvements       5214.74   \n",
              "1            10+ years  Home Mortgage  Debt Consolidation      33295.98   \n",
              "\n",
              "   Years of Credit History  Months since last delinquent  \\\n",
              "0                     17.2                           NaN   \n",
              "1                     21.1                           8.0   \n",
              "\n",
              "   Number of Open Accounts  Number of Credit Problems  Current Credit Balance  \\\n",
              "0                      6.0                        1.0                228190.0   \n",
              "1                     35.0                        0.0                229976.0   \n",
              "\n",
              "   Maximum Open Credit  Bankruptcies  Tax Liens  \n",
              "0             416746.0           1.0        0.0  \n",
              "1             850784.0           0.0        0.0  "
            ]
          },
          "execution_count": 53,
          "metadata": {},
          "output_type": "execute_result"
        }
      ],
      "source": [
        "credit.head(2)"
      ]
    },
    {
      "cell_type": "code",
      "execution_count": null,
      "id": "da3bb562",
      "metadata": {
        "id": "da3bb562",
        "outputId": "57786fdf-3ff6-412d-9820-bf147820203c"
      },
      "outputs": [
        {
          "data": {
            "image/png": "[encoded data removed]",
            "text/plain": [
              "<Figure size 1500x900 with 1 Axes>"
            ]
          },
          "metadata": {},
          "output_type": "display_data"
        }
      ],
      "source": [
        "#The diagram below show the purpose of loan taking, Majority of the loan was taken for Debt consolidation purpose\n",
        "plt.figure(figsize =(15,9))\n",
        "sns.countplot(x = \"Purpose\", data = credit, hue = \"Loan Status\")\n",
        "plt.xticks(rotation = 45)\n",
        "plt.title(\"Purpose of taking Loan\", fontdict= {\"fontsize\": 20})\n",
        "plt.show()"
      ]
    },
    {
      "cell_type": "code",
      "execution_count": null,
      "id": "2b3ec934",
      "metadata": {
        "id": "2b3ec934",
        "outputId": "8c9eb7d6-2362-4f50-ec40-03d818855ddb"
      },
      "outputs": [
        {
          "data": {
            "text/plain": [
              "<Axes: xlabel='Loan Status', ylabel='count'>"
            ]
          },
          "execution_count": 56,
          "metadata": {},
          "output_type": "execute_result"
        },
        {
          "data": {
            "image/png": "[encoded data removed]",
            "text/plain": [
              "<Figure size 640x480 with 1 Axes>"
            ]
          },
          "metadata": {},
          "output_type": "display_data"
        }
      ],
      "source": [
        "#The images shows the loan status of the loan taken\n",
        "sns.countplot(x = \"Loan Status\", data = credit)"
      ]
    },
    {
      "cell_type": "code",
      "execution_count": null,
      "id": "0858b015",
      "metadata": {
        "id": "0858b015",
        "outputId": "303ba4a0-6312-456f-9817-46e144659070"
      },
      "outputs": [
        {
          "data": {
            "text/plain": [
              "<seaborn.axisgrid.FacetGrid at 0x283991f90>"
            ]
          },
          "execution_count": 64,
          "metadata": {},
          "output_type": "execute_result"
        },
        {
          "data": {
            "image/png": "[encoded data removed]",
            "text/plain": [
              "<Figure size 1000x500 with 2 Axes>"
            ]
          },
          "metadata": {},
          "output_type": "display_data"
        }
      ],
      "source": [
        "#Comparison between the loan status (Long and short term loans)\n",
        "sns.displot(credit, x = \"Loan Status\", col = \"Term\",stat= \"density\", common_norm= False)"
      ]
    },
    {
      "cell_type": "code",
      "execution_count": null,
      "id": "9d5d11b7",
      "metadata": {
        "id": "9d5d11b7",
        "outputId": "ee1de315-1859-4628-8377-f0190e6f07df"
      },
      "outputs": [
        {
          "data": {
            "text/html": [
              "<div>\n",
              "<style scoped>\n",
              "    .dataframe tbody tr th:only-of-type {\n",
              "        vertical-align: middle;\n",
              "    }\n",
              "\n",
              "    .dataframe tbody tr th {\n",
              "        vertical-align: top;\n",
              "    }\n",
              "\n",
              "    .dataframe thead th {\n",
              "        text-align: right;\n",
              "    }\n",
              "</style>\n",
              "<table border=\"1\" class=\"dataframe\">\n",
              "  <thead>\n",
              "    <tr style=\"text-align: right;\">\n",
              "      <th></th>\n",
              "      <th>Loan Status</th>\n",
              "      <th>Current Loan Amount</th>\n",
              "      <th>Term</th>\n",
              "      <th>Credit Score</th>\n",
              "      <th>Annual Income</th>\n",
              "      <th>Years in current job</th>\n",
              "      <th>Home Ownership</th>\n",
              "      <th>Purpose</th>\n",
              "      <th>Monthly Debt</th>\n",
              "      <th>Years of Credit History</th>\n",
              "      <th>Months since last delinquent</th>\n",
              "      <th>Number of Open Accounts</th>\n",
              "      <th>Number of Credit Problems</th>\n",
              "      <th>Current Credit Balance</th>\n",
              "      <th>Maximum Open Credit</th>\n",
              "      <th>Bankruptcies</th>\n",
              "      <th>Tax Liens</th>\n",
              "    </tr>\n",
              "  </thead>\n",
              "  <tbody>\n",
              "    <tr>\n",
              "      <th>0</th>\n",
              "      <td>Fully Paid</td>\n",
              "      <td>445412.0</td>\n",
              "      <td>Short Term</td>\n",
              "      <td>709.0</td>\n",
              "      <td>1167493.0</td>\n",
              "      <td>8 years</td>\n",
              "      <td>Home Mortgage</td>\n",
              "      <td>Home Improvements</td>\n",
              "      <td>5214.74</td>\n",
              "      <td>17.2</td>\n",
              "      <td>NaN</td>\n",
              "      <td>6.0</td>\n",
              "      <td>1.0</td>\n",
              "      <td>228190.0</td>\n",
              "      <td>416746.0</td>\n",
              "      <td>1.0</td>\n",
              "      <td>0.0</td>\n",
              "    </tr>\n",
              "    <tr>\n",
              "      <th>1</th>\n",
              "      <td>Fully Paid</td>\n",
              "      <td>262328.0</td>\n",
              "      <td>Short Term</td>\n",
              "      <td>NaN</td>\n",
              "      <td>NaN</td>\n",
              "      <td>10+ years</td>\n",
              "      <td>Home Mortgage</td>\n",
              "      <td>Debt Consolidation</td>\n",
              "      <td>33295.98</td>\n",
              "      <td>21.1</td>\n",
              "      <td>8.0</td>\n",
              "      <td>35.0</td>\n",
              "      <td>0.0</td>\n",
              "      <td>229976.0</td>\n",
              "      <td>850784.0</td>\n",
              "      <td>0.0</td>\n",
              "      <td>0.0</td>\n",
              "    </tr>\n",
              "  </tbody>\n",
              "</table>\n",
              "</div>"
            ],
            "text/plain": [
              "  Loan Status  Current Loan Amount        Term  Credit Score  Annual Income  \\\n",
              "0  Fully Paid             445412.0  Short Term         709.0      1167493.0   \n",
              "1  Fully Paid             262328.0  Short Term           NaN            NaN   \n",
              "\n",
              "  Years in current job Home Ownership             Purpose  Monthly Debt  \\\n",
              "0              8 years  Home Mortgage   Home Improvements       5214.74   \n",
              "1            10+ years  Home Mortgage  Debt Consolidation      33295.98   \n",
              "\n",
              "   Years of Credit History  Months since last delinquent  \\\n",
              "0                     17.2                           NaN   \n",
              "1                     21.1                           8.0   \n",
              "\n",
              "   Number of Open Accounts  Number of Credit Problems  Current Credit Balance  \\\n",
              "0                      6.0                        1.0                228190.0   \n",
              "1                     35.0                        0.0                229976.0   \n",
              "\n",
              "   Maximum Open Credit  Bankruptcies  Tax Liens  \n",
              "0             416746.0           1.0        0.0  \n",
              "1             850784.0           0.0        0.0  "
            ]
          },
          "execution_count": 65,
          "metadata": {},
          "output_type": "execute_result"
        }
      ],
      "source": [
        "credit.head(2)"
      ]
    },
    {
      "cell_type": "code",
      "execution_count": null,
      "id": "29e019c9",
      "metadata": {
        "id": "29e019c9",
        "outputId": "c33e069e-facc-4eb4-8d72-b377ef46ae9a"
      },
      "outputs": [
        {
          "data": {
            "image/png": "[encoded data removed]",
            "text/plain": [
              "<Figure size 600x600 with 1 Axes>"
            ]
          },
          "metadata": {},
          "output_type": "display_data"
        }
      ],
      "source": [
        "plt.figure(figsize = (6,6))\n",
        "plt.pie(x = credit[\"Term\"].value_counts(),labels = [\"short term\", \"Long term\"], autopct = \"%.2f%%\", explode= [0,0.09])\n",
        "plt.title(\"Time period of loan taken\", fontdict = {\"fontsize\":20})\n",
        "plt.show()"
      ]
    },
    {
      "cell_type": "code",
      "execution_count": null,
      "id": "cde22991",
      "metadata": {
        "id": "cde22991",
        "outputId": "ab234723-9212-4e2a-8d4f-6b6c2250e318"
      },
      "outputs": [
        {
          "data": {
            "text/html": [
              "<div>\n",
              "<style scoped>\n",
              "    .dataframe tbody tr th:only-of-type {\n",
              "        vertical-align: middle;\n",
              "    }\n",
              "\n",
              "    .dataframe tbody tr th {\n",
              "        vertical-align: top;\n",
              "    }\n",
              "\n",
              "    .dataframe thead th {\n",
              "        text-align: right;\n",
              "    }\n",
              "</style>\n",
              "<table border=\"1\" class=\"dataframe\">\n",
              "  <thead>\n",
              "    <tr style=\"text-align: right;\">\n",
              "      <th></th>\n",
              "      <th>Annual Income</th>\n",
              "    </tr>\n",
              "    <tr>\n",
              "      <th>Term</th>\n",
              "      <th></th>\n",
              "    </tr>\n",
              "  </thead>\n",
              "  <tbody>\n",
              "    <tr>\n",
              "      <th>Long Term</th>\n",
              "      <td>3.524992e+10</td>\n",
              "    </tr>\n",
              "    <tr>\n",
              "      <th>Short Term</th>\n",
              "      <td>7.617822e+10</td>\n",
              "    </tr>\n",
              "  </tbody>\n",
              "</table>\n",
              "</div>"
            ],
            "text/plain": [
              "            Annual Income\n",
              "Term                     \n",
              "Long Term    3.524992e+10\n",
              "Short Term   7.617822e+10"
            ]
          },
          "execution_count": 11,
          "metadata": {},
          "output_type": "execute_result"
        }
      ],
      "source": [
        "#Annual income by loan term\n",
        "annual_income= credit.groupby(\"Term\").agg({\"Annual Income\": \"sum\"})\n",
        "annual_income"
      ]
    },
    {
      "cell_type": "code",
      "execution_count": null,
      "id": "5634f6c7",
      "metadata": {
        "id": "5634f6c7",
        "outputId": "8b77f50c-2281-44f3-9d3c-ef1aa0a95230"
      },
      "outputs": [
        {
          "data": {
            "text/plain": [
              "array([[35249924306],\n",
              "       [76178222451]])"
            ]
          },
          "execution_count": 12,
          "metadata": {},
          "output_type": "execute_result"
        }
      ],
      "source": [
        "np.int64(annual_income)"
      ]
    },
    {
      "cell_type": "code",
      "execution_count": null,
      "id": "13233e5b",
      "metadata": {
        "scrolled": true,
        "id": "13233e5b",
        "outputId": "6037ac80-e717-48d3-977f-e5573b167000"
      },
      "outputs": [
        {
          "data": {
            "text/plain": [
              "count    70631.000000\n",
              "mean      1130.830598\n",
              "std       1571.037395\n",
              "min        585.000000\n",
              "25%        708.000000\n",
              "50%        729.000000\n",
              "75%        742.000000\n",
              "max       7510.000000\n",
              "Name: Credit Score, dtype: float64"
            ]
          },
          "execution_count": 81,
          "metadata": {},
          "output_type": "execute_result"
        }
      ],
      "source": [
        "credit[\"Credit Score\"].describe()"
      ]
    },
    {
      "cell_type": "markdown",
      "id": "342975ba",
      "metadata": {
        "id": "342975ba"
      },
      "source": [
        "Annual income"
      ]
    },
    {
      "cell_type": "code",
      "execution_count": null,
      "id": "87177f47",
      "metadata": {
        "id": "87177f47",
        "outputId": "dba4ac33-a051-4a42-b80c-5d0f3fd7c57d"
      },
      "outputs": [
        {
          "data": {
            "text/plain": [
              "count    7.063100e+04\n",
              "mean     1.375894e+06\n",
              "std      1.104852e+06\n",
              "min      7.662700e+04\n",
              "25%      8.479320e+05\n",
              "50%      1.168975e+06\n",
              "75%      1.648915e+06\n",
              "max      1.655574e+08\n",
              "Name: Annual Income, dtype: float64"
            ]
          },
          "execution_count": 83,
          "metadata": {},
          "output_type": "execute_result"
        }
      ],
      "source": [
        "credit[\"Annual Income\"].describe()"
      ]
    },
    {
      "cell_type": "code",
      "execution_count": null,
      "id": "5a8ba19c",
      "metadata": {
        "id": "5a8ba19c",
        "outputId": "5e445d29-c954-4aeb-b672-1a81e01bc5a7"
      },
      "outputs": [
        {
          "data": {
            "text/plain": [
              "1168975.0"
            ]
          },
          "execution_count": 84,
          "metadata": {},
          "output_type": "execute_result"
        }
      ],
      "source": [
        "credit[\"Annual Income\"].median()"
      ]
    },
    {
      "cell_type": "code",
      "execution_count": null,
      "id": "31e4813b",
      "metadata": {
        "id": "31e4813b",
        "outputId": "c512b66c-22a1-489d-c523-6bfd4b5641d8"
      },
      "outputs": [
        {
          "data": {
            "text/plain": [
              "1375894.3876909572"
            ]
          },
          "execution_count": 85,
          "metadata": {},
          "output_type": "execute_result"
        }
      ],
      "source": [
        "credit[\"Annual Income\"].mean()"
      ]
    },
    {
      "cell_type": "code",
      "execution_count": null,
      "id": "c14dbcdd",
      "metadata": {
        "id": "c14dbcdd"
      },
      "outputs": [],
      "source": [
        "credit[\"Annual Income\"].fillna(credit[\"Annual Income\"].mean(), inplace = True)"
      ]
    },
    {
      "cell_type": "code",
      "execution_count": null,
      "id": "8f1a199d",
      "metadata": {
        "id": "8f1a199d",
        "outputId": "79461f11-5d8b-4182-9f61-0241f193965d"
      },
      "outputs": [
        {
          "data": {
            "text/plain": [
              "0"
            ]
          },
          "execution_count": 88,
          "metadata": {},
          "output_type": "execute_result"
        }
      ],
      "source": [
        "credit[\"Annual Income\"].isna().sum()"
      ]
    },
    {
      "cell_type": "code",
      "execution_count": null,
      "id": "c5fe96b4",
      "metadata": {
        "id": "c5fe96b4",
        "outputId": "f4b5cdaa-9521-42a4-8d24-f8c33e3f8e58"
      },
      "outputs": [
        {
          "data": {
            "image/png": "[encoded data removed]",
            "text/plain": [
              "<Figure size 1500x800 with 1 Axes>"
            ]
          },
          "metadata": {},
          "output_type": "display_data"
        }
      ],
      "source": [
        "plt.figure(figsize = (15, 8))\n",
        "sns.countplot(x = \"Home Ownership\", data = credit, hue =\"Loan Status\")\n",
        "plt.title(\"Own Property vs Loan Status\", fontdict = {\"fontsize\":20})\n",
        "plt.show()"
      ]
    },
    {
      "cell_type": "code",
      "execution_count": null,
      "id": "1c5e9a9c",
      "metadata": {
        "id": "1c5e9a9c",
        "outputId": "68752ef7-ad93-4474-ba70-3d6c832516c4"
      },
      "outputs": [
        {
          "data": {
            "text/html": [
              "<div>\n",
              "<style scoped>\n",
              "    .dataframe tbody tr th:only-of-type {\n",
              "        vertical-align: middle;\n",
              "    }\n",
              "\n",
              "    .dataframe tbody tr th {\n",
              "        vertical-align: top;\n",
              "    }\n",
              "\n",
              "    .dataframe thead th {\n",
              "        text-align: right;\n",
              "    }\n",
              "</style>\n",
              "<table border=\"1\" class=\"dataframe\">\n",
              "  <thead>\n",
              "    <tr style=\"text-align: right;\">\n",
              "      <th></th>\n",
              "      <th>Loan Status</th>\n",
              "      <th>Current Loan Amount</th>\n",
              "      <th>Term</th>\n",
              "      <th>Credit Score</th>\n",
              "      <th>Annual Income</th>\n",
              "      <th>Years in current job</th>\n",
              "      <th>Home Ownership</th>\n",
              "      <th>Purpose</th>\n",
              "      <th>Monthly Debt</th>\n",
              "      <th>Years of Credit History</th>\n",
              "      <th>Months since last delinquent</th>\n",
              "      <th>Number of Open Accounts</th>\n",
              "      <th>Number of Credit Problems</th>\n",
              "      <th>Current Credit Balance</th>\n",
              "      <th>Maximum Open Credit</th>\n",
              "      <th>Bankruptcies</th>\n",
              "      <th>Tax Liens</th>\n",
              "    </tr>\n",
              "  </thead>\n",
              "  <tbody>\n",
              "    <tr>\n",
              "      <th>0</th>\n",
              "      <td>Fully Paid</td>\n",
              "      <td>445412.0</td>\n",
              "      <td>Short Term</td>\n",
              "      <td>709.0</td>\n",
              "      <td>1.167493e+06</td>\n",
              "      <td>8 years</td>\n",
              "      <td>Home Mortgage</td>\n",
              "      <td>Home Improvements</td>\n",
              "      <td>5214.74</td>\n",
              "      <td>17.2</td>\n",
              "      <td>NaN</td>\n",
              "      <td>6.0</td>\n",
              "      <td>1.0</td>\n",
              "      <td>228190.0</td>\n",
              "      <td>416746.0</td>\n",
              "      <td>1.0</td>\n",
              "      <td>0.0</td>\n",
              "    </tr>\n",
              "    <tr>\n",
              "      <th>1</th>\n",
              "      <td>Fully Paid</td>\n",
              "      <td>262328.0</td>\n",
              "      <td>Short Term</td>\n",
              "      <td>NaN</td>\n",
              "      <td>1.375894e+06</td>\n",
              "      <td>10+ years</td>\n",
              "      <td>Home Mortgage</td>\n",
              "      <td>Debt Consolidation</td>\n",
              "      <td>33295.98</td>\n",
              "      <td>21.1</td>\n",
              "      <td>8.0</td>\n",
              "      <td>35.0</td>\n",
              "      <td>0.0</td>\n",
              "      <td>229976.0</td>\n",
              "      <td>850784.0</td>\n",
              "      <td>0.0</td>\n",
              "      <td>0.0</td>\n",
              "    </tr>\n",
              "  </tbody>\n",
              "</table>\n",
              "</div>"
            ],
            "text/plain": [
              "  Loan Status  Current Loan Amount        Term  Credit Score  Annual Income  \\\n",
              "0  Fully Paid             445412.0  Short Term         709.0   1.167493e+06   \n",
              "1  Fully Paid             262328.0  Short Term           NaN   1.375894e+06   \n",
              "\n",
              "  Years in current job Home Ownership             Purpose  Monthly Debt  \\\n",
              "0              8 years  Home Mortgage   Home Improvements       5214.74   \n",
              "1            10+ years  Home Mortgage  Debt Consolidation      33295.98   \n",
              "\n",
              "   Years of Credit History  Months since last delinquent  \\\n",
              "0                     17.2                           NaN   \n",
              "1                     21.1                           8.0   \n",
              "\n",
              "   Number of Open Accounts  Number of Credit Problems  Current Credit Balance  \\\n",
              "0                      6.0                        1.0                228190.0   \n",
              "1                     35.0                        0.0                229976.0   \n",
              "\n",
              "   Maximum Open Credit  Bankruptcies  Tax Liens  \n",
              "0             416746.0           1.0        0.0  \n",
              "1             850784.0           0.0        0.0  "
            ]
          },
          "execution_count": 89,
          "metadata": {},
          "output_type": "execute_result"
        }
      ],
      "source": [
        "credit.head(2)"
      ]
    },
    {
      "cell_type": "code",
      "execution_count": null,
      "id": "8fbc3b69",
      "metadata": {
        "id": "8fbc3b69"
      },
      "outputs": [],
      "source": []
    },
    {
      "cell_type": "code",
      "execution_count": null,
      "id": "71946dd5",
      "metadata": {
        "id": "71946dd5"
      },
      "outputs": [],
      "source": []
    }
  ],
  "metadata": {
    "kernelspec": {
      "display_name": "Python 3 (ipykernel)",
      "language": "python",
      "name": "python3"
    },
    "language_info": {
      "codemirror_mode": {
        "name": "ipython",
        "version": 3
      },
      "file_extension": ".py",
      "mimetype": "text/x-python",
      "name": "python",
      "nbconvert_exporter": "python",
      "pygments_lexer": "ipython3",
      "version": "3.11.5"
    },
    "colab": {
      "provenance": [],
      "include_colab_link": true
    }
  },
  "nbformat": 4,
  "nbformat_minor": 5
}